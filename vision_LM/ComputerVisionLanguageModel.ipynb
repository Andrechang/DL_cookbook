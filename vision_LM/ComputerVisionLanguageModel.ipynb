{
 "cells": [
  {
   "cell_type": "markdown",
   "id": "3a14ac1e",
   "metadata": {},
   "source": [
    "## Experiments to see if Language model knows images through text\n"
   ]
  },
  {
   "cell_type": "code",
   "execution_count": 7,
   "id": "b75fccc6",
   "metadata": {},
   "outputs": [],
   "source": [
    "import re\n",
    "import os\n",
    "import openai\n",
    "import pickle\n",
    "import backoff \n",
    "import requests\n",
    "import torch\n",
    "import torch.nn as nn\n",
    "import torch.nn.functional as F\n",
    "from datasets import load_dataset, DatasetDict\n",
    "from torchvision import datasets as torch_datasets\n",
    "from torchvision import transforms as torch_transforms\n",
    "import matplotlib.pyplot as plt\n",
    "from transformers import ViTImageProcessor, ViTForImageClassification, ViTModel, ViTConfig\n",
    "from PIL import Image\n",
    "from tqdm import tqdm\n",
    "import json"
   ]
  },
  {
   "cell_type": "code",
   "execution_count": 2,
   "id": "ea2fe836",
   "metadata": {},
   "outputs": [],
   "source": [
    "MODEL = \"gpt-4\" # 'gpt-3.5-turbo'"
   ]
  },
  {
   "cell_type": "markdown",
   "id": "7f157d98",
   "metadata": {},
   "source": [
    "### Can GPT-4 draw ?"
   ]
  },
  {
   "cell_type": "code",
   "execution_count": 3,
   "id": "f03e7432",
   "metadata": {},
   "outputs": [
    {
     "name": "stdout",
     "output_type": "stream",
     "text": [
      "0 0 0\n",
      "\n",
      "0 0 0\n",
      "\n",
      "1 1 1\n"
     ]
    }
   ],
   "source": [
    "question = '''\n",
    "Image of a vertical line is like this \n",
    "0 1 0 \\n \n",
    "0 1 0 \\n \n",
    "0 1 0 \\n \n",
    "give me a image of a horizontal line in bottom\"\n",
    "'''\n",
    "prompt=f\"Question: {question}\\nAnswer:\"\n",
    "\n",
    "response = openai.ChatCompletion.create(\n",
    "    model=MODEL,\n",
    "    messages=[{'role': 'user', 'content': prompt}]\n",
    ")\n",
    "\n",
    "ans = response.choices[0]\n",
    "print(ans['message']['content'])"
   ]
  },
  {
   "cell_type": "markdown",
   "id": "446cfd68",
   "metadata": {},
   "source": [
    "### MNIST classification ?"
   ]
  },
  {
   "cell_type": "code",
   "execution_count": 7,
   "id": "e1763df1",
   "metadata": {},
   "outputs": [],
   "source": [
    "transform=torch_transforms.Compose([\n",
    "        torch_transforms.ToTensor(),\n",
    "        ])\n",
    "mnist_data = torch_datasets.MNIST('./data', train=False, download=True, transform=transform)"
   ]
  },
  {
   "cell_type": "code",
   "execution_count": 111,
   "id": "6e28897b",
   "metadata": {
    "scrolled": true
   },
   "outputs": [],
   "source": [
    "def img2txt(img):\n",
    "    #gray scale img to text\n",
    "    txt = ''\n",
    "    for y in range(img.shape[1]):\n",
    "        for x in range(img.shape[2]):\n",
    "            ii = img[0, y, x]\n",
    "            if ii.item() >= 0.5:\n",
    "                txt += '1'\n",
    "            else:\n",
    "                txt += '0'\n",
    "        txt+='\\n'\n",
    "    return txt, img.shape\n",
    "\n",
    "def txt2img(txt):\n",
    "    x = txt.find('\\n')\n",
    "    y = txt.count('\\n') + 2 #first and last row\n",
    "    shape = (1, y, x)\n",
    "    img = torch.zeros(shape)\n",
    "    xi, yi = 0, 0\n",
    "    for idx, tt in enumerate(txt):\n",
    "        if tt == '\\n':\n",
    "            yi += 1\n",
    "            xi = 0\n",
    "        else:\n",
    "            tt = tt if tt.isdigit() else 9\n",
    "            img[0, yi, xi] = int(tt)\n",
    "            xi += 1\n",
    "    return img\n"
   ]
  },
  {
   "cell_type": "code",
   "execution_count": 77,
   "id": "4e519c22",
   "metadata": {},
   "outputs": [
    {
     "data": {
      "text/plain": [
       "<matplotlib.image.AxesImage at 0x7f06cef382e0>"
      ]
     },
     "execution_count": 77,
     "metadata": {},
     "output_type": "execute_result"
    },
    {
     "data": {
      "image/png": "[encoded data removed]",
      "text/plain": [
       "<Figure size 640x480 with 1 Axes>"
      ]
     },
     "metadata": {},
     "output_type": "display_data"
    }
   ],
   "source": [
    "img = mnist_data[0][0]\n",
    "txt, shp = img2txt(img)\n",
    "igg = txt2img(txt)\n",
    "plt.imshow(igg.permute(1, 2, 0))"
   ]
  },
  {
   "cell_type": "code",
   "execution_count": 50,
   "id": "0f567f9c",
   "metadata": {},
   "outputs": [
    {
     "name": "stdout",
     "output_type": "stream",
     "text": [
      "Based on the provided image, it appears to represent the number 7.\n"
     ]
    }
   ],
   "source": [
    "question = f\"What number is in this image {txt}\"\n",
    "prompt=f\"Question: {question}\\nAnswer:\"\n",
    "\n",
    "response = openai.ChatCompletion.create(\n",
    "    model=MODEL,\n",
    "    messages=[{'role': 'user', 'content': prompt}]\n",
    ")\n",
    "\n",
    "ans = response.choices[0]\n",
    "print(ans['message']['content'])"
   ]
  },
  {
   "cell_type": "markdown",
   "id": "98b738c6",
   "metadata": {},
   "source": [
    "### MNIST generation ?"
   ]
  },
  {
   "cell_type": "code",
   "execution_count": 9,
   "id": "8e0c3580",
   "metadata": {},
   "outputs": [
    {
     "name": "stdout",
     "output_type": "stream",
     "text": [
      "I'm an AI language model, and I cannot create images directly. However, I can help you create an ASCII representation of the number 8, like this:\n",
      "\n",
      "```\n",
      "0000000000000000000000000\n",
      "0000000001111100000000000\n",
      "0000000111111111000000000\n",
      "0000001111111111100000000\n",
      "0000011100000011110000000\n",
      "0000011000000001110000000\n",
      "0000111000000000111000000\n",
      "0000110000000000111000000\n",
      "0000110000000000011000000\n",
      "0000011000000000110000000\n",
      "0000011100000001110000000\n",
      "0000001111111111100000000\n",
      "0000000111111111000000000\n",
      "0000001111111111100000000\n",
      "0000011100000011110000000\n",
      "0000011000000001110000000\n",
      "0000111000000000111000000\n",
      "0000110000000000111000000\n",
      "0000110000000000011000000\n",
      "0000011000000000110000000\n",
      "0000011100000001110000000\n",
      "0000001111111111100000000\n",
      "0000000111111111000000000\n",
      "0000000001111100000000000\n",
      "0000000000000000000000000\n",
      "```\n"
     ]
    }
   ],
   "source": [
    "question = f\"Image of number seven is like this {txt} give me a image of number 8\"\n",
    "prompt=f\"Question: {question}\\nAnswer:\"\n",
    "\n",
    "response = openai.ChatCompletion.create(\n",
    "    model=MODEL,\n",
    "    messages=[{'role': 'user', 'content': prompt}]\n",
    ")\n",
    "\n",
    "ans = response.choices[0]\n",
    "print(ans['message']['content'])"
   ]
  },
  {
   "cell_type": "markdown",
   "id": "855083b3",
   "metadata": {},
   "source": [
    "### More than numbers, maybe FashionMNIST ?"
   ]
  },
  {
   "cell_type": "code",
   "execution_count": 54,
   "id": "af6e114d",
   "metadata": {},
   "outputs": [
    {
     "name": "stdout",
     "output_type": "stream",
     "text": [
      "Downloading http://fashion-mnist.s3-website.eu-central-1.amazonaws.com/train-images-idx3-ubyte.gz\n",
      "Downloading http://fashion-mnist.s3-website.eu-central-1.amazonaws.com/train-images-idx3-ubyte.gz to ./data/FashionMNIST/raw/train-images-idx3-ubyte.gz\n"
     ]
    },
    {
     "data": {
      "application/vnd.jupyter.widget-view+json": {
       "model_id": "6f3d737bf99d4edb98094d7537eee336",
       "version_major": 2,
       "version_minor": 0
      },
      "text/plain": [
       "  0%|          | 0/26421880 [00:00<?, ?it/s]"
      ]
     },
     "metadata": {},
     "output_type": "display_data"
    },
    {
     "name": "stdout",
     "output_type": "stream",
     "text": [
      "Extracting ./data/FashionMNIST/raw/train-images-idx3-ubyte.gz to ./data/FashionMNIST/raw\n",
      "\n",
      "Downloading http://fashion-mnist.s3-website.eu-central-1.amazonaws.com/train-labels-idx1-ubyte.gz\n",
      "Downloading http://fashion-mnist.s3-website.eu-central-1.amazonaws.com/train-labels-idx1-ubyte.gz to ./data/FashionMNIST/raw/train-labels-idx1-ubyte.gz\n"
     ]
    },
    {
     "data": {
      "application/vnd.jupyter.widget-view+json": {
       "model_id": "735b793d1de74793a9a475bb8e4e1017",
       "version_major": 2,
       "version_minor": 0
      },
      "text/plain": [
       "  0%|          | 0/29515 [00:00<?, ?it/s]"
      ]
     },
     "metadata": {},
     "output_type": "display_data"
    },
    {
     "name": "stdout",
     "output_type": "stream",
     "text": [
      "Extracting ./data/FashionMNIST/raw/train-labels-idx1-ubyte.gz to ./data/FashionMNIST/raw\n",
      "\n",
      "Downloading http://fashion-mnist.s3-website.eu-central-1.amazonaws.com/t10k-images-idx3-ubyte.gz\n",
      "Downloading http://fashion-mnist.s3-website.eu-central-1.amazonaws.com/t10k-images-idx3-ubyte.gz to ./data/FashionMNIST/raw/t10k-images-idx3-ubyte.gz\n"
     ]
    },
    {
     "data": {
      "application/vnd.jupyter.widget-view+json": {
       "model_id": "2cadd4b66a9f490080ce0fae8cf540e2",
       "version_major": 2,
       "version_minor": 0
      },
      "text/plain": [
       "  0%|          | 0/4422102 [00:00<?, ?it/s]"
      ]
     },
     "metadata": {},
     "output_type": "display_data"
    },
    {
     "name": "stdout",
     "output_type": "stream",
     "text": [
      "Extracting ./data/FashionMNIST/raw/t10k-images-idx3-ubyte.gz to ./data/FashionMNIST/raw\n",
      "\n",
      "Downloading http://fashion-mnist.s3-website.eu-central-1.amazonaws.com/t10k-labels-idx1-ubyte.gz\n",
      "Downloading http://fashion-mnist.s3-website.eu-central-1.amazonaws.com/t10k-labels-idx1-ubyte.gz to ./data/FashionMNIST/raw/t10k-labels-idx1-ubyte.gz\n"
     ]
    },
    {
     "data": {
      "application/vnd.jupyter.widget-view+json": {
       "model_id": "6d24044da32a45988a3f3d6d1b13e236",
       "version_major": 2,
       "version_minor": 0
      },
      "text/plain": [
       "  0%|          | 0/5148 [00:00<?, ?it/s]"
      ]
     },
     "metadata": {},
     "output_type": "display_data"
    },
    {
     "name": "stdout",
     "output_type": "stream",
     "text": [
      "Extracting ./data/FashionMNIST/raw/t10k-labels-idx1-ubyte.gz to ./data/FashionMNIST/raw\n",
      "\n"
     ]
    }
   ],
   "source": [
    "transform=torch_transforms.Compose([\n",
    "        torch_transforms.ToTensor(),\n",
    "        ])\n",
    "fashion_data = torch_datasets.FashionMNIST('./data', train=False, download=True, transform=transform)"
   ]
  },
  {
   "cell_type": "code",
   "execution_count": 79,
   "id": "2b13eea8",
   "metadata": {},
   "outputs": [],
   "source": [
    "def img2txt_v2(img):\n",
    "    #gray scale img to text\n",
    "    #v2: convert float to digit eg: 0.4 -> 4\n",
    "    txt = ''\n",
    "    for y in range(img.shape[1]):\n",
    "        for x in range(img.shape[2]):\n",
    "            ii = img[0, y, x]\n",
    "            digit = int(ii.item()*10)\n",
    "            digit = digit if digit < 10 else 9\n",
    "            txt += str(digit)\n",
    "        txt+='\\n'\n",
    "    return txt, img.shape"
   ]
  },
  {
   "cell_type": "code",
   "execution_count": 164,
   "id": "7b713759",
   "metadata": {},
   "outputs": [
    {
     "data": {
      "text/plain": [
       "<matplotlib.image.AxesImage at 0x7f06cbfa3910>"
      ]
     },
     "execution_count": 164,
     "metadata": {},
     "output_type": "execute_result"
    },
    {
     "data": {
      "image/png": "[encoded data removed]",
      "text/plain": [
       "<Figure size 640x480 with 1 Axes>"
      ]
     },
     "metadata": {},
     "output_type": "display_data"
    }
   ],
   "source": [
    "img = fashion_data[0][0] #shoe\n",
    "txt, shp = img2txt_v2(img)\n",
    "img = fashion_data[2][0] #pants\n",
    "txt2, shp = img2txt_v2(img)\n",
    "img = fashion_data[4][0] # shirt\n",
    "txt3, shp = img2txt_v2(img)\n",
    "img = fashion_data[31][0]\n",
    "txt4, shp = img2txt_v2(img) # purse\n",
    "\n",
    "igg = txt2img(txt)\n",
    "plt.imshow(igg.permute(1, 2, 0))"
   ]
  },
  {
   "cell_type": "code",
   "execution_count": 185,
   "id": "f3046ea8",
   "metadata": {},
   "outputs": [
    {
     "data": {
      "text/plain": [
       "<matplotlib.image.AxesImage at 0x7f06cd7144f0>"
      ]
     },
     "execution_count": 185,
     "metadata": {},
     "output_type": "execute_result"
    },
    {
     "data": {
      "image/png": "[encoded data removed]",
      "text/plain": [
       "<Figure size 640x480 with 1 Axes>"
      ]
     },
     "metadata": {},
     "output_type": "display_data"
    }
   ],
   "source": [
    "# try generation\n",
    "context = f'''Each element of text array is a number between 0 to 9. \n",
    "The numbers represent pixel intensity, \n",
    "where 0 is the less intense and 9 is the most intense. \n",
    "This is a representation of a shoe {txt}. \n",
    "A representation of pants {txt2}\n",
    "A representation of a shirt {txt3}\n",
    "A representation of a bag {txt4}\n",
    "'''\n",
    "question = f\"Give me a representation of a hat\"\n",
    "prompt=f\"Context: {context}\\nQuestion: {question}\\nAnswer:\"\n",
    "\n",
    "response = openai.ChatCompletion.create(\n",
    "    model=MODEL,\n",
    "    messages=[{'role': 'user', 'content': prompt}]\n",
    ")\n",
    "\n",
    "ans = response.choices[0]\n",
    "igg = txt2img(ans['message']['content'])\n",
    "plt.imshow(igg.permute(1, 2, 0))"
   ]
  },
  {
   "cell_type": "code",
   "execution_count": 150,
   "id": "efdc4e85",
   "metadata": {},
   "outputs": [
    {
     "name": "stdout",
     "output_type": "stream",
     "text": [
      "pants\n"
     ]
    }
   ],
   "source": [
    "# try classification\n",
    "img = fashion_data[76][0] #pants\n",
    "txt5, shp = img2txt_v2(img)\n",
    "\n",
    "context = f'''Each element of text array is a number between 0 to 9. \n",
    "The numbers represent pixel intensity, \n",
    "where 0 is the less intense and 9 is the most intense. \n",
    "This is a representation of a shoe {txt}. \n",
    "A representation of pants {txt2}\n",
    "A representation of a shirt {txt3}\n",
    "A representation of a bag {txt4}\n",
    "'''\n",
    "question = f\"What this {txt5} represents\"\n",
    "prompt=f\"Context: {context} \\n Question: {question} \\nAnswer:\"\n",
    "\n",
    "response = openai.ChatCompletion.create(\n",
    "    model=MODEL,\n",
    "    messages=[{'role': 'user', 'content': prompt}]\n",
    ")\n",
    "\n",
    "ans = response.choices[0]\n",
    "print(ans['message']['content'])"
   ]
  },
  {
   "cell_type": "markdown",
   "id": "4288c1e5",
   "metadata": {},
   "source": [
    "### How about Embeddings?"
   ]
  },
  {
   "cell_type": "code",
   "execution_count": 4,
   "id": "6a05f712",
   "metadata": {},
   "outputs": [],
   "source": [
    "def get_qint8_embedding(outputs):\n",
    "    # https://github.com/huggingface/transformers/blob/v4.27.1/src/transformers/models/vit/modeling_vit.py#L749\n",
    "    embeding = outputs[:, 0, :]\n",
    "\n",
    "    # https://docs.nvidia.com/deeplearning/tensorrt/tensorflow-quantization-toolkit/docs/docs/intro_to_quantization.html\n",
    "    beta = -15\n",
    "    alpha = 15\n",
    "    scale = (alpha - beta) / 255\n",
    "    zero_point = -round(beta * scale) - 128\n",
    "    q_embeding = torch.quantize_per_tensor(embeding, scale, zero_point, torch.qint8)\n",
    "    return q_embeding\n",
    "\n",
    "def qint8_emb2txt(emb):\n",
    "    #1-d embedding\n",
    "    txt = ''\n",
    "    for x in range(emb.shape[1]):\n",
    "        ii = emb[0, x]\n",
    "        digit = ii.item()\n",
    "        txt += str(digit) + ', '\n",
    "    txt = txt.rstrip(', ')\n",
    "    return txt, emb.shape\n",
    "\n",
    "def float_emb2txt(emb):\n",
    "    txt = ''\n",
    "    for x in range(emb.shape[1]):\n",
    "        ii = emb[0, x]\n",
    "        digit = ii.item()\n",
    "        txt += \"%.1f\" % round(digit, 1) + ', '\n",
    "    txt = txt.rstrip(', ')\n",
    "    return txt, emb.shape\n",
    "\n",
    "processor = ViTImageProcessor.from_pretrained('google/vit-base-patch16-224')\n",
    "model = ViTForImageClassification.from_pretrained('google/vit-base-patch16-224')"
   ]
  },
  {
   "cell_type": "code",
   "execution_count": 9,
   "id": "fe035d99",
   "metadata": {},
   "outputs": [
    {
     "name": "stdout",
     "output_type": "stream",
     "text": [
      "Predicted class: Samoyed, Samoyede\n"
     ]
    }
   ],
   "source": [
    "image = Image.open('images/dog.jpg')\n",
    "inputs = processor(images=image, return_tensors=\"pt\")\n",
    "outputs = model(**inputs, output_hidden_states=True)\n",
    "\n",
    "predicted_class_idx = outputs.logits.argmax(-1).item()\n",
    "print(\"Predicted class:\", model.config.id2label[predicted_class_idx])\n",
    "\n",
    "emb = get_qint8_embedding(outputs.hidden_states[-1])\n",
    "txt_emb_dog, _ = qint8_emb2txt(emb)\n"
   ]
  },
  {
   "cell_type": "code",
   "execution_count": 10,
   "id": "18445cf8",
   "metadata": {},
   "outputs": [
    {
     "name": "stdout",
     "output_type": "stream",
     "text": [
      "Predicted class: tabby, tabby cat\n"
     ]
    }
   ],
   "source": [
    "image = Image.open('images/cat.jpg')\n",
    "inputs = processor(images=image, return_tensors=\"pt\")\n",
    "outputs = model(**inputs, output_hidden_states=True)\n",
    "predicted_class_idx = outputs.logits.argmax(-1).item()\n",
    "print(\"Predicted class:\", model.config.id2label[predicted_class_idx])\n",
    "\n",
    "emb = get_qint8_embedding(outputs.hidden_states[-1])\n",
    "txt_emb_cat, _ = qint8_emb2txt(emb)\n"
   ]
  },
  {
   "cell_type": "code",
   "execution_count": 11,
   "id": "f1444572",
   "metadata": {},
   "outputs": [
    {
     "name": "stdout",
     "output_type": "stream",
     "text": [
      "Predicted class: tabby, tabby cat\n"
     ]
    }
   ],
   "source": [
    "image = Image.open('images/cat1.jpg')\n",
    "inputs = processor(images=image, return_tensors=\"pt\")\n",
    "outputs = model(**inputs, output_hidden_states=True)\n",
    "predicted_class_idx = outputs.logits.argmax(-1).item()\n",
    "print(\"Predicted class:\", model.config.id2label[predicted_class_idx])\n",
    "\n",
    "emb = get_qint8_embedding(outputs.hidden_states[-1])\n",
    "txt_emb_cat1, _ = qint8_emb2txt(emb)\n"
   ]
  },
  {
   "cell_type": "code",
   "execution_count": 13,
   "id": "a1ddd708",
   "metadata": {},
   "outputs": [
    {
     "name": "stdout",
     "output_type": "stream",
     "text": [
      "This representation represents a cat.\n"
     ]
    }
   ],
   "source": [
    "context = f''' \n",
    "{txt_emb_cat} represents cat. \n",
    "{txt_emb_dog} represents dog. \n",
    "'''\n",
    "question = f\"Does this {txt_emb_cat1} represents a dog or a cat\"\n",
    "prompt=f\"Context: {context} \\n Question: {question} \\nAnswer:\"\n",
    "\n",
    "response = openai.ChatCompletion.create(\n",
    "    model=MODEL,\n",
    "    messages=[{'role': 'user', 'content': prompt}]\n",
    ")\n",
    "\n",
    "ans = response.choices[0]\n",
    "print(ans['message']['content'])"
   ]
  },
  {
   "cell_type": "markdown",
   "id": "b2a5ac31",
   "metadata": {},
   "source": [
    "### fine-tune with embeddings"
   ]
  },
  {
   "cell_type": "code",
   "execution_count": 5,
   "id": "64652ea9",
   "metadata": {
    "scrolled": true
   },
   "outputs": [
    {
     "name": "stdout",
     "output_type": "stream",
     "text": [
      "Files already downloaded and verified\n"
     ]
    }
   ],
   "source": [
    "#create dataset for finetune LM\n",
    "txtlabel = ['airplane', 'automobile', 'bird', 'cat', 'deer', 'dog', 'frog', 'horse', 'ship', 'truck']\n",
    "transform=torch_transforms.Compose([\n",
    "        torch_transforms.ToTensor(),\n",
    "        ])\n",
    "cifar10_data = torch_datasets.CIFAR10('./data', train=False, download=True, transform=transform)\n",
    "\n",
    "device = \"cuda\" if torch.cuda.is_available() else \"cpu\"\n",
    "model = model.to(device)"
   ]
  },
  {
   "cell_type": "code",
   "execution_count": null,
   "id": "a37739dc",
   "metadata": {},
   "outputs": [],
   "source": [
    "sub_set = len(cifar10_data)//10 \n",
    "data_gpt = []\n",
    "for idx in tqdm(range(sub_set)):\n",
    "    image, label = cifar10_data[idx]\n",
    "    inputs = processor(images=image, return_tensors=\"pt\")\n",
    "    inputs = inputs.to(device)\n",
    "    outputs = model(**inputs, output_hidden_states=True)\n",
    "    emb = get_qint8_embedding(outputs.hidden_states[-1])\n",
    "    txt_emb, _ = qint8_emb2txt(emb)\n",
    "    data_gpt.append({\"prompt\": \"{} represents\".format(txt_emb), \n",
    "                     \"completion\": txtlabel[label]})\n",
    "    "
   ]
  },
  {
   "cell_type": "code",
   "execution_count": 8,
   "id": "39c9f053",
   "metadata": {},
   "outputs": [],
   "source": [
    "with open('metadata.jsonl', \"w\", encoding=\"utf-8\") as f:\n",
    "    for item in data_gpt:\n",
    "        f.write(json.dumps(item) + \"\\n\")"
   ]
  },
  {
   "cell_type": "code",
   "execution_count": null,
   "id": "93b7c5f5",
   "metadata": {},
   "outputs": [],
   "source": [
    "# fine tune following command line: https://platform.openai.com/docs/guides/fine-tuning"
   ]
  }
 ],
 "metadata": {
  "kernelspec": {
   "display_name": "torch",
   "language": "python",
   "name": "torch"
  },
  "language_info": {
   "codemirror_mode": {
    "name": "ipython",
    "version": 3
   },
   "file_extension": ".py",
   "mimetype": "text/x-python",
   "name": "python",
   "nbconvert_exporter": "python",
   "pygments_lexer": "ipython3",
   "version": "3.8.16"
  }
 },
 "nbformat": 4,
 "nbformat_minor": 5
}
